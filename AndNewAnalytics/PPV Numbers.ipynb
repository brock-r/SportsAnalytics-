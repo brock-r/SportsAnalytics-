{
 "cells": [
  {
   "cell_type": "markdown",
   "metadata": {},
   "source": [
    "Gathering Pay Per View numbers for UFC and other sports events from https://www.tapology.com/"
   ]
  },
  {
   "cell_type": "code",
   "execution_count": 41,
   "metadata": {},
   "outputs": [
    {
     "name": "stdout",
     "output_type": "stream",
     "text": [
      "/search/mma-event-figures/ppv-pay-per-view-buys-buyrate?page=2\n"
     ]
    }
   ],
   "source": [
    "import pandas as pd\n",
    "import warnings\n",
    "warnings.filterwarnings('ignore')\n",
    "from bs4 import BeautifulSoup\n",
    "import urllib.request\n",
    "\n",
    "links = []\n",
    "\n",
    "parser = 'html.parser'  \n",
    "resp = urllib.request.urlopen(\"https://www.tapology.com/search/mma-event-figures/ppv-pay-per-view-buys-buyrate\")\n",
    "soup = BeautifulSoup(resp, parser, from_encoding=resp.info().get_param('charset'))\n",
    "\n",
    "# Getting all links, then finding page 2 results, page 3 results, etc \n",
    "for link in soup.find_all('a', href=True):\n",
    "    if \"/search/mma-event-figures/ppv-pay-per-view-buys-buyrate?page=\" in link['href'] and \"https://www.tapology.com\" + link['href'] not in links:\n",
    "        links.append(\"https://www.tapology.com\" + link['href'])\n",
    "        print(link['href'])"
   ]
  },
  {
   "cell_type": "code",
   "execution_count": 42,
   "metadata": {},
   "outputs": [
    {
     "data": {
      "text/html": [
       "<div>\n",
       "<style scoped>\n",
       "    .dataframe tbody tr th:only-of-type {\n",
       "        vertical-align: middle;\n",
       "    }\n",
       "\n",
       "    .dataframe tbody tr th {\n",
       "        vertical-align: top;\n",
       "    }\n",
       "\n",
       "    .dataframe thead th {\n",
       "        text-align: right;\n",
       "    }\n",
       "</style>\n",
       "<table border=\"1\" class=\"dataframe\">\n",
       "  <thead>\n",
       "    <tr style=\"text-align: right;\">\n",
       "      <th></th>\n",
       "      <th>Event</th>\n",
       "      <th>Unnamed: 1</th>\n",
       "      <th>Name</th>\n",
       "      <th>Unnamed: 3</th>\n",
       "      <th>Date</th>\n",
       "      <th>Unnamed: 5</th>\n",
       "      <th>Buyrate</th>\n",
       "    </tr>\n",
       "  </thead>\n",
       "  <tbody>\n",
       "    <tr>\n",
       "      <th>0</th>\n",
       "      <td>Mayweather vs. Pacquiao</td>\n",
       "      <td>NaN</td>\n",
       "      <td>NaN</td>\n",
       "      <td>NaN</td>\n",
       "      <td>2015.05.02</td>\n",
       "      <td>NaN</td>\n",
       "      <td>4600000</td>\n",
       "    </tr>\n",
       "    <tr>\n",
       "      <th>1</th>\n",
       "      <td>UFC 229</td>\n",
       "      <td>NaN</td>\n",
       "      <td>Khabib vs. McGregor</td>\n",
       "      <td>NaN</td>\n",
       "      <td>2018.10.06</td>\n",
       "      <td>NaN</td>\n",
       "      <td>2400000</td>\n",
       "    </tr>\n",
       "    <tr>\n",
       "      <th>2</th>\n",
       "      <td>Mayweather vs. Canelo</td>\n",
       "      <td>NaN</td>\n",
       "      <td>The One</td>\n",
       "      <td>NaN</td>\n",
       "      <td>2013.09.14</td>\n",
       "      <td>NaN</td>\n",
       "      <td>2200000</td>\n",
       "    </tr>\n",
       "    <tr>\n",
       "      <th>3</th>\n",
       "      <td>UFC 202</td>\n",
       "      <td>NaN</td>\n",
       "      <td>Diaz vs. McGregor 2</td>\n",
       "      <td>NaN</td>\n",
       "      <td>2016.08.20</td>\n",
       "      <td>NaN</td>\n",
       "      <td>1600000</td>\n",
       "    </tr>\n",
       "    <tr>\n",
       "      <th>4</th>\n",
       "      <td>Mayweather vs. Cotto</td>\n",
       "      <td>NaN</td>\n",
       "      <td>NaN</td>\n",
       "      <td>NaN</td>\n",
       "      <td>2012.05.05</td>\n",
       "      <td>NaN</td>\n",
       "      <td>1500000</td>\n",
       "    </tr>\n",
       "  </tbody>\n",
       "</table>\n",
       "</div>"
      ],
      "text/plain": [
       "                     Event  Unnamed: 1                 Name  Unnamed: 3  \\\n",
       "0  Mayweather vs. Pacquiao         NaN                  NaN         NaN   \n",
       "1                  UFC 229         NaN  Khabib vs. McGregor         NaN   \n",
       "2    Mayweather vs. Canelo         NaN              The One         NaN   \n",
       "3                  UFC 202         NaN  Diaz vs. McGregor 2         NaN   \n",
       "4     Mayweather vs. Cotto         NaN                  NaN         NaN   \n",
       "\n",
       "         Date  Unnamed: 5  Buyrate  \n",
       "0  2015.05.02         NaN  4600000  \n",
       "1  2018.10.06         NaN  2400000  \n",
       "2  2013.09.14         NaN  2200000  \n",
       "3  2016.08.20         NaN  1600000  \n",
       "4  2012.05.05         NaN  1500000  "
      ]
     },
     "execution_count": 42,
     "metadata": {},
     "output_type": "execute_result"
    }
   ],
   "source": [
    "ppvs = pd.read_html(\"https://www.tapology.com/search/mma-event-figures/ppv-pay-per-view-buys-buyrate\")[0]\n",
    "for i in links:\n",
    "    temp = pd.read_html(i)[0]\n",
    "    ppvs = ppvs.append(temp)\n",
    "    \n",
    "ppvs.head()"
   ]
  },
  {
   "cell_type": "code",
   "execution_count": 43,
   "metadata": {},
   "outputs": [
    {
     "name": "stdout",
     "output_type": "stream",
     "text": [
      "Unnamed: 1\n",
      "Unnamed: 3\n",
      "Unnamed: 5\n"
     ]
    },
    {
     "data": {
      "text/html": [
       "<div>\n",
       "<style scoped>\n",
       "    .dataframe tbody tr th:only-of-type {\n",
       "        vertical-align: middle;\n",
       "    }\n",
       "\n",
       "    .dataframe tbody tr th {\n",
       "        vertical-align: top;\n",
       "    }\n",
       "\n",
       "    .dataframe thead th {\n",
       "        text-align: right;\n",
       "    }\n",
       "</style>\n",
       "<table border=\"1\" class=\"dataframe\">\n",
       "  <thead>\n",
       "    <tr style=\"text-align: right;\">\n",
       "      <th></th>\n",
       "      <th>Event</th>\n",
       "      <th>Name</th>\n",
       "      <th>Date</th>\n",
       "      <th>Buyrate</th>\n",
       "    </tr>\n",
       "  </thead>\n",
       "  <tbody>\n",
       "    <tr>\n",
       "      <th>0</th>\n",
       "      <td>Mayweather vs. Pacquiao</td>\n",
       "      <td>NaN</td>\n",
       "      <td>2015-05-02</td>\n",
       "      <td>4600000</td>\n",
       "    </tr>\n",
       "    <tr>\n",
       "      <th>1</th>\n",
       "      <td>UFC 229</td>\n",
       "      <td>Khabib vs. McGregor</td>\n",
       "      <td>2018-10-06</td>\n",
       "      <td>2400000</td>\n",
       "    </tr>\n",
       "    <tr>\n",
       "      <th>2</th>\n",
       "      <td>Mayweather vs. Canelo</td>\n",
       "      <td>The One</td>\n",
       "      <td>2013-09-14</td>\n",
       "      <td>2200000</td>\n",
       "    </tr>\n",
       "    <tr>\n",
       "      <th>3</th>\n",
       "      <td>UFC 202</td>\n",
       "      <td>Diaz vs. McGregor 2</td>\n",
       "      <td>2016-08-20</td>\n",
       "      <td>1600000</td>\n",
       "    </tr>\n",
       "    <tr>\n",
       "      <th>4</th>\n",
       "      <td>Mayweather vs. Cotto</td>\n",
       "      <td>NaN</td>\n",
       "      <td>2012-05-05</td>\n",
       "      <td>1500000</td>\n",
       "    </tr>\n",
       "  </tbody>\n",
       "</table>\n",
       "</div>"
      ],
      "text/plain": [
       "                     Event                 Name        Date  Buyrate\n",
       "0  Mayweather vs. Pacquiao                  NaN  2015-05-02  4600000\n",
       "1                  UFC 229  Khabib vs. McGregor  2018-10-06  2400000\n",
       "2    Mayweather vs. Canelo              The One  2013-09-14  2200000\n",
       "3                  UFC 202  Diaz vs. McGregor 2  2016-08-20  1600000\n",
       "4     Mayweather vs. Cotto                  NaN  2012-05-05  1500000"
      ]
     },
     "execution_count": 43,
     "metadata": {},
     "output_type": "execute_result"
    }
   ],
   "source": [
    "# removing unneeded columns\n",
    "for i in ppvs.columns:\n",
    "    if \"Unnamed\" in i:\n",
    "        print(i)\n",
    "        ppvs.drop(i,axis = 1,inplace=True)\n",
    "\n",
    "count = 0  \n",
    "for i in ppvs[\"Date\"]:\n",
    "    ppvs[\"Date\"].iloc[count] = i.replace(\".\", \"-\")\n",
    "    count+= 1\n",
    "    \n",
    "ppvs.head()"
   ]
  },
  {
   "cell_type": "code",
   "execution_count": 47,
   "metadata": {},
   "outputs": [
    {
     "name": "stdout",
     "output_type": "stream",
     "text": [
      "Database opened successfully\n",
      "\n"
     ]
    },
    {
     "data": {
      "text/html": [
       "<div>\n",
       "<style scoped>\n",
       "    .dataframe tbody tr th:only-of-type {\n",
       "        vertical-align: middle;\n",
       "    }\n",
       "\n",
       "    .dataframe tbody tr th {\n",
       "        vertical-align: top;\n",
       "    }\n",
       "\n",
       "    .dataframe thead th {\n",
       "        text-align: right;\n",
       "    }\n",
       "</style>\n",
       "<table border=\"1\" class=\"dataframe\">\n",
       "  <thead>\n",
       "    <tr style=\"text-align: right;\">\n",
       "      <th></th>\n",
       "      <th>Event</th>\n",
       "      <th>Name</th>\n",
       "      <th>Date</th>\n",
       "      <th>Buyrate</th>\n",
       "    </tr>\n",
       "  </thead>\n",
       "  <tbody>\n",
       "    <tr>\n",
       "      <th>212</th>\n",
       "      <td>Strikeforce</td>\n",
       "      <td>Shamrock vs. Baroni</td>\n",
       "      <td>2007-06-22</td>\n",
       "      <td>35000</td>\n",
       "    </tr>\n",
       "    <tr>\n",
       "      <th>213</th>\n",
       "      <td>Pride 32</td>\n",
       "      <td>The Real Deal</td>\n",
       "      <td>2006-10-21</td>\n",
       "      <td>30000</td>\n",
       "    </tr>\n",
       "    <tr>\n",
       "      <th>214</th>\n",
       "      <td>Joshua vs. Klitschko</td>\n",
       "      <td>None</td>\n",
       "      <td>2017-04-29</td>\n",
       "      <td>1</td>\n",
       "    </tr>\n",
       "  </tbody>\n",
       "</table>\n",
       "</div>"
      ],
      "text/plain": [
       "                    Event                 Name        Date  Buyrate\n",
       "212           Strikeforce  Shamrock vs. Baroni  2007-06-22    35000\n",
       "213              Pride 32        The Real Deal  2006-10-21    30000\n",
       "214  Joshua vs. Klitschko                 None  2017-04-29        1"
      ]
     },
     "execution_count": 47,
     "metadata": {},
     "output_type": "execute_result"
    }
   ],
   "source": [
    "import psycopg2\n",
    "import requests\n",
    "\n",
    "con = psycopg2.connect(\"Connection String\")\n",
    "print(\"Database opened successfully\")\n",
    "print()\n",
    "cur = con.cursor()\n",
    "cur.execute('SELECT * from \"PPVS\"')\n",
    "tupples = cur.fetchall()\n",
    "headers = [i[0] for i in cur.description]\n",
    "# Dataframe created from tupples and headers\n",
    "PPVS = pd.DataFrame(tupples, columns=headers)\n",
    "\n",
    "\n",
    "PPVS.tail(3)"
   ]
  },
  {
   "cell_type": "code",
   "execution_count": 48,
   "metadata": {},
   "outputs": [
    {
     "data": {
      "text/html": [
       "<div>\n",
       "<style scoped>\n",
       "    .dataframe tbody tr th:only-of-type {\n",
       "        vertical-align: middle;\n",
       "    }\n",
       "\n",
       "    .dataframe tbody tr th {\n",
       "        vertical-align: top;\n",
       "    }\n",
       "\n",
       "    .dataframe thead th {\n",
       "        text-align: right;\n",
       "    }\n",
       "</style>\n",
       "<table border=\"1\" class=\"dataframe\">\n",
       "  <thead>\n",
       "    <tr style=\"text-align: right;\">\n",
       "      <th></th>\n",
       "      <th>Event</th>\n",
       "      <th>Name</th>\n",
       "      <th>Date</th>\n",
       "      <th>Buyrate</th>\n",
       "    </tr>\n",
       "  </thead>\n",
       "  <tbody>\n",
       "  </tbody>\n",
       "</table>\n",
       "</div>"
      ],
      "text/plain": [
       "Empty DataFrame\n",
       "Columns: [Event, Name, Date, Buyrate]\n",
       "Index: []"
      ]
     },
     "execution_count": 48,
     "metadata": {},
     "output_type": "execute_result"
    }
   ],
   "source": [
    "new = pd.concat([ppvs,PPVS]).drop_duplicates(keep=False)\n",
    "new.head()"
   ]
  },
  {
   "cell_type": "code",
   "execution_count": 45,
   "metadata": {},
   "outputs": [],
   "source": [
    "from sqlalchemy import create_engine\n",
    "from sqlalchemy.orm import sessionmaker\n",
    "from sqlalchemy.ext.declarative import declarative_base\n",
    "\n",
    "\n",
    "# Gather data for new entries\n",
    "\n",
    "con = psycopg2.connect(\"Connection String\")\n",
    "\n",
    "\n",
    "ppvs.to_sql(\n",
    "    'PPVS', \n",
    "    engine,\n",
    "    index=False,\n",
    "    if_exists = 'append',\n",
    "    method='multi'\n",
    ")"
   ]
  },
  {
   "cell_type": "code",
   "execution_count": null,
   "metadata": {},
   "outputs": [],
   "source": []
  }
 ],
 "metadata": {
  "kernelspec": {
   "display_name": "Python 3",
   "language": "python",
   "name": "python3"
  },
  "language_info": {
   "codemirror_mode": {
    "name": "ipython",
    "version": 3
   },
   "file_extension": ".py",
   "mimetype": "text/x-python",
   "name": "python",
   "nbconvert_exporter": "python",
   "pygments_lexer": "ipython3",
   "version": "3.7.1"
  }
 },
 "nbformat": 4,
 "nbformat_minor": 2
}
